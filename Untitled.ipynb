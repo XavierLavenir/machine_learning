{
 "cells": [
  {
   "cell_type": "code",
   "execution_count": 4,
   "metadata": {
    "collapsed": false
   },
   "outputs": [
    {
     "name": "stdout",
     "output_type": "stream",
     "text": [
      "{'a': 21}\n"
     ]
    }
   ],
   "source": [
    "from pprint import pprint\n",
    "d = {'a':21}\n",
    "\n",
    "pprint(d)"
   ]
  },
  {
   "cell_type": "code",
   "execution_count": 43,
   "metadata": {
    "collapsed": false,
    "scrolled": false
   },
   "outputs": [
    {
     "name": "stdout",
     "output_type": "stream",
     "text": [
      "            x          y  z\n",
      "0   34.623660  78.024693  0\n",
      "1   30.286711  43.894998  0\n",
      "2   35.847409  72.902198  0\n",
      "3   60.182599  86.308552  1\n",
      "4   79.032736  75.344376  1\n",
      "5   45.083277  56.316372  0\n",
      "6   61.106665  96.511426  1\n",
      "7   75.024746  46.554014  1\n",
      "8   76.098787  87.420570  1\n",
      "9   84.432820  43.533393  1\n",
      "10  95.861555  38.225278  0\n",
      "11  75.013658  30.603263  0\n",
      "12  82.307053  76.481963  1\n",
      "13  69.364589  97.718692  1\n",
      "14  39.538339  76.036811  0\n",
      "15  53.971052  89.207350  1\n",
      "16  69.070144  52.740470  1\n",
      "17  67.946855  46.678574  0\n",
      "18  70.661510  92.927138  1\n",
      "19  76.978784  47.575964  1\n",
      "20  67.372028  42.838438  0\n",
      "21  89.676776  65.799366  1\n",
      "22  50.534788  48.855812  0\n",
      "23  34.212061  44.209529  0\n",
      "24  77.924091  68.972360  1\n",
      "25  62.271014  69.954458  1\n",
      "26  80.190181  44.821629  1\n",
      "27  93.114389  38.800670  0\n",
      "28  61.830206  50.256108  0\n",
      "29  38.785804  64.995681  0\n",
      "..        ...        ... ..\n",
      "70  32.722833  43.307173  0\n",
      "71  64.039320  78.031688  1\n",
      "72  72.346494  96.227593  1\n",
      "73  60.457886  73.094998  1\n",
      "74  58.840956  75.858448  1\n",
      "75  99.827858  72.369252  1\n",
      "76  47.264269  88.475865  1\n",
      "77  50.458160  75.809860  1\n",
      "78  60.455556  42.508409  0\n",
      "79  82.226662  42.719879  0\n",
      "80  88.913896  69.803789  1\n",
      "81  94.834507  45.694307  1\n",
      "82  67.319257  66.589353  1\n",
      "83  57.238706  59.514282  1\n",
      "84  80.366756  90.960148  1\n",
      "85  68.468522  85.594307  1\n",
      "86  42.075455  78.844786  0\n",
      "87  75.477702  90.424539  1\n",
      "88  78.635424  96.647427  1\n",
      "89  52.348004  60.769505  0\n",
      "90  94.094331  77.159105  1\n",
      "91  90.448551  87.508792  1\n",
      "92  55.482161  35.570703  0\n",
      "93  74.492692  84.845137  1\n",
      "94  89.845807  45.358284  1\n",
      "95  83.489163  48.380286  1\n",
      "96  42.261701  87.103851  1\n",
      "97  99.315009  68.775409  1\n",
      "98  55.340018  64.931938  1\n",
      "99  74.775893  89.529813  1\n",
      "\n",
      "[100 rows x 3 columns]\n"
     ]
    },
    {
     "data": {
      "image/png": "[encoded data removed]",
      "text/plain": [
       "<matplotlib.figure.Figure at 0xd7a6a20>"
      ]
     },
     "metadata": {},
     "output_type": "display_data"
    }
   ],
   "source": [
    "import pandas as pd\n",
    "from pprint import pprint\n",
    "import matplotlib.pyplot as plt\n",
    "\n",
    "df1 = pd.read_csv('C:\\Users\\Xavier\\Desktop\\Python projects\\Machine Learning\\data\\simple_data\\ex2data1.csv')\n",
    "df2 = pd.read_csv('C:\\Users\\Xavier\\Desktop\\Python projects\\Machine Learning\\data\\simple_data\\ex2data2.csv')\n",
    "\n",
    "p\n",
    "p = df1.plot(x=0,y=1,kind='scatter', c='red')\n",
    "plt.show()"
   ]
  },
  {
   "cell_type": "code",
   "execution_count": null,
   "metadata": {
    "collapsed": true
   },
   "outputs": [],
   "source": []
  },
  {
   "cell_type": "code",
   "execution_count": null,
   "metadata": {
    "collapsed": true
   },
   "outputs": [],
   "source": []
  }
 ],
 "metadata": {
  "kernelspec": {
   "display_name": "Python 2",
   "language": "python",
   "name": "python2"
  },
  "language_info": {
   "codemirror_mode": {
    "name": "ipython",
    "version": 2
   },
   "file_extension": ".py",
   "mimetype": "text/x-python",
   "name": "python",
   "nbconvert_exporter": "python",
   "pygments_lexer": "ipython2",
   "version": "2.7.13"
  }
 },
 "nbformat": 4,
 "nbformat_minor": 2
}
